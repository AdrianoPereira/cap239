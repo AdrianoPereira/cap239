{
 "cells": [
  {
   "cell_type": "markdown",
   "metadata": {},
   "source": [
    "<div>\n",
    "    <img src=\"./images/logo-inpe.jpg\" width=\"100\"/>\n",
    "    <h2 style=\"text-align: center;\">Instituto Nacional de Pesquisas Espaciais - INPE</h2>\n",
    "    <h3>Programa de Pós Graduação em Computação Aplicada</h3>\n",
    "    <h4>CAP 239 - Matemática Computacional I, Parte B - Prof. Dr Reinaldo Roberto Rosa</h4>\n",
    "    <h4>Análise Espectral de Processos Estocásticos</h4>\n",
    "</div>"
   ]
  }
 ],
 "metadata": {
  "kernelspec": {
   "display_name": "Python 3",
   "language": "python",
   "name": "python3"
  },
  "language_info": {
   "codemirror_mode": {
    "name": "ipython",
    "version": 3
   },
   "file_extension": ".py",
   "mimetype": "text/x-python",
   "name": "python",
   "nbconvert_exporter": "python",
   "pygments_lexer": "ipython3",
   "version": "3.7.3"
  }
 },
 "nbformat": 4,
 "nbformat_minor": 2
}
