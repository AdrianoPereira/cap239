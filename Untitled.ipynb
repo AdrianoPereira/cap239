{
 "cells": [
  {
   "cell_type": "code",
   "execution_count": null,
   "metadata": {},
   "outputs": [],
   "source": [
    "n, p = 10, .5 \n",
    "binomial = np.random.binomial(n, p, 1000)\n",
    "uniform = np.random.uniform(-1,0,1000)\n",
    "beta = np.random.beta(1, 4, 1000)\n",
    "laplace = np.random.laplace(0, 0.5, 1000)\n",
    "gamma = np.random.gamma(1, 2, 1000)\n",
    "exponential = np.random.exponential(1, 1000)\n",
    "quiquadrado = np.random.chisquare(1, 1000)\n",
    "cauchy = np.random.standard_cauchy(1000)\n",
    "gaussian = np.random.normal(0, 0.2, 1000)\n",
    "lognormal = np.random.lognormal(3, 1, 1000)\n",
    "sns.distplot(beta)\n",
    "\n",
    "sns.distplot(uniform, hist=False, color='red', label='Uniform')\n",
    "sns.distplot(binomial, hist=False, color='blue', label='Binomial')\n",
    "sns.distplot(beta, hist=False, color='blue', label='Beta')\n",
    "sns.distplot(laplace, hist=False, color='blue', label='Laplace')\n",
    "sns.distplot(gamma, hist=False, color='blue', label='Gamma')\n",
    "sns.distplot(exponential, hist=False, color='blue', label='Exponential')"
   ]
  }
 ],
 "metadata": {
  "kernelspec": {
   "display_name": "Python 3",
   "language": "python",
   "name": "python3"
  },
  "language_info": {
   "codemirror_mode": {
    "name": "ipython",
    "version": 3
   },
   "file_extension": ".py",
   "mimetype": "text/x-python",
   "name": "python",
   "nbconvert_exporter": "python",
   "pygments_lexer": "ipython3",
   "version": "3.7.3"
  }
 },
 "nbformat": 4,
 "nbformat_minor": 2
}
