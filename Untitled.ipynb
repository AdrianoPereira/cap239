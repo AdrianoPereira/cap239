{
 "cells": [
  {
   "cell_type": "code",
   "execution_count": 1,
   "metadata": {},
   "outputs": [],
   "source": [
    "import numpy as np\n",
    "import pandas as pd\n",
    "import matplotlib.pyplot as plt\n",
    "import csv\n",
    "from scripts.powernoise import powernoise\n",
    "from oct2py import octave"
   ]
  },
  {
   "cell_type": "code",
   "execution_count": null,
   "metadata": {},
   "outputs": [],
   "source": [
    "octave.addPath('./mat')"
   ]
  },
  {
   "cell_type": "code",
   "execution_count": 6,
   "metadata": {},
   "outputs": [
    {
     "ename": "SyntaxError",
     "evalue": "positional argument follows keyword argument (<ipython-input-6-e151e9f607de>, line 1)",
     "output_type": "error",
     "traceback": [
      "\u001b[0;36m  File \u001b[0;32m\"<ipython-input-6-e151e9f607de>\"\u001b[0;36m, line \u001b[0;32m1\u001b[0m\n\u001b[0;31m    white_noise_normalize = powernoise(beta=0, N=2**12, {opt_normal: 'normalize'})\u001b[0m\n\u001b[0m                                                       ^\u001b[0m\n\u001b[0;31mSyntaxError\u001b[0m\u001b[0;31m:\u001b[0m positional argument follows keyword argument\n"
     ]
    }
   ],
   "source": [
    "white_noise_normalize = powernoise(beta=0, N=2**12, opt_normal= 'normalize')\n",
    "white_noise_ranpower = powernoise(beta=0, N=2**12, {opt_randpow:'ranpower')\n",
    "\n",
    "pink_noise_normalize = powernoise(beta=1, N=2**12, {opt_normal:'normalize')\n",
    "pink_noise_ranpower = powernoise(beta=1, N=2**12, opt_randpow= 'ranpower')\n",
    "\n",
    "red_noise_normalize = powernoise(beta=2, N=2**12, opt_normal='normalize')\n",
    "red_noise_ranpower = powernoise(beta=2, N=2**12, opt_randpow='ranpower')"
   ]
  }
 ],
 "metadata": {
  "kernelspec": {
   "display_name": "Python 3",
   "language": "python",
   "name": "python3"
  },
  "language_info": {
   "codemirror_mode": {
    "name": "ipython",
    "version": 3
   },
   "file_extension": ".py",
   "mimetype": "text/x-python",
   "name": "python",
   "nbconvert_exporter": "python",
   "pygments_lexer": "ipython3",
   "version": "3.7.3"
  }
 },
 "nbformat": 4,
 "nbformat_minor": 2
}
